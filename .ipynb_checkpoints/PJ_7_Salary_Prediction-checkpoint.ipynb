{
 "cells": [
  {
   "cell_type": "markdown",
   "id": "2137ce79-7e09-4600-8527-6838be71200c",
   "metadata": {},
   "source": [
    "Imports of necessary libs"
   ]
  },
  {
   "cell_type": "code",
   "execution_count": 216,
   "id": "b22a6d19-cbb6-4c59-bcca-3aa1004faf49",
   "metadata": {},
   "outputs": [],
   "source": [
    "import os\n",
    "import requests\n",
    "\n",
    "import pandas as pd\n",
    "import matplotlib.pyplot as plt\n",
    "import numpy as np\n",
    "from sklearn.linear_model import LinearRegression\n",
    "from sklearn.model_selection import train_test_split\n",
    "from sklearn.metrics import mean_absolute_percentage_error as mape"
   ]
  },
  {
   "cell_type": "markdown",
   "id": "be47f401-a0cb-4ef2-ac3a-af586ceccf12",
   "metadata": {},
   "source": [
    "Checking ../Data directory presence"
   ]
  },
  {
   "cell_type": "code",
   "execution_count": 217,
   "id": "7efcc8d1-2a64-4130-92be-4f1910e70eeb",
   "metadata": {},
   "outputs": [],
   "source": [
    "if not os.path.exists('../Data'):\n",
    "    os.mkdir('../Data')\n"
   ]
  },
  {
   "cell_type": "markdown",
   "id": "3f6b9d14-2e2b-4d67-a6c7-a26360858eca",
   "metadata": {},
   "source": [
    "Download data if it is unavailable"
   ]
  },
  {
   "cell_type": "code",
   "execution_count": 218,
   "id": "a80eaf1a-d0ae-4850-84b7-3100908cf230",
   "metadata": {},
   "outputs": [],
   "source": [
    "if 'data.csv' not in os.listdir('../Data'):\n",
    "    url = \"https://www.dropbox.com/s/3cml50uv7zm46ly/data.csv?dl=1\"\n",
    "    r = requests.get(url, allow_redirects=True)\n",
    "    open('../Data/data.csv', 'wb').write(r.content)"
   ]
  },
  {
   "cell_type": "markdown",
   "id": "62aa8ee8-7717-4a50-a1b5-45026c3878db",
   "metadata": {},
   "source": [
    "Read data"
   ]
  },
  {
   "cell_type": "code",
   "execution_count": 219,
   "id": "b800cbd9-5703-4d1b-b897-20f694a1cdc5",
   "metadata": {},
   "outputs": [],
   "source": [
    "data = pd.read_csv('../Data/data.csv')"
   ]
  },
  {
   "cell_type": "markdown",
   "id": "59c4737b-0409-453a-8a5d-3e35989b70f2",
   "metadata": {},
   "source": [
    "Stage 1/5\r",
    " Assigning the linear regression model"
   ]
  },
  {
   "cell_type": "code",
   "execution_count": 220,
   "id": "1fbd625c-33e5-4aa3-b15f-6c82dff6f777",
   "metadata": {},
   "outputs": [],
   "source": [
    "model = LinearRegression()"
   ]
  },
  {
   "cell_type": "markdown",
   "id": "cf7f0357-e750-49d3-9fed-afd1d28c1b06",
   "metadata": {},
   "source": [
    "Extraction the data from DataFrame (X cannot be a series so shaping it back to frame)"
   ]
  },
  {
   "cell_type": "code",
   "execution_count": 221,
   "id": "49a3f809-4e3e-4f17-8623-1dc2697a0d17",
   "metadata": {},
   "outputs": [],
   "source": [
    "X, y = data['rating'].to_frame(), data['salary']"
   ]
  },
  {
   "cell_type": "markdown",
   "id": "e0fe3543-f619-4a63-8975-646078164d7a",
   "metadata": {},
   "source": [
    "Splitting the data to test and train samples"
   ]
  },
  {
   "cell_type": "code",
   "execution_count": 222,
   "id": "422c84b2-c225-4f9a-93bf-4000ee2c86f5",
   "metadata": {},
   "outputs": [],
   "source": [
    "X_train, X_test, y_train, y_test = train_test_split(X, y, test_size=0.3, random_state=100)"
   ]
  },
  {
   "cell_type": "markdown",
   "id": "5ec1cf11-1738-4450-947f-b761f12475c2",
   "metadata": {},
   "source": [
    "Training the model"
   ]
  },
  {
   "cell_type": "code",
   "execution_count": 223,
   "id": "7af5951a-18d5-491c-b315-67e3d152c422",
   "metadata": {},
   "outputs": [
    {
     "data": {
      "text/html": [
       "<style>#sk-container-id-22 {color: black;}#sk-container-id-22 pre{padding: 0;}#sk-container-id-22 div.sk-toggleable {background-color: white;}#sk-container-id-22 label.sk-toggleable__label {cursor: pointer;display: block;width: 100%;margin-bottom: 0;padding: 0.3em;box-sizing: border-box;text-align: center;}#sk-container-id-22 label.sk-toggleable__label-arrow:before {content: \"▸\";float: left;margin-right: 0.25em;color: #696969;}#sk-container-id-22 label.sk-toggleable__label-arrow:hover:before {color: black;}#sk-container-id-22 div.sk-estimator:hover label.sk-toggleable__label-arrow:before {color: black;}#sk-container-id-22 div.sk-toggleable__content {max-height: 0;max-width: 0;overflow: hidden;text-align: left;background-color: #f0f8ff;}#sk-container-id-22 div.sk-toggleable__content pre {margin: 0.2em;color: black;border-radius: 0.25em;background-color: #f0f8ff;}#sk-container-id-22 input.sk-toggleable__control:checked~div.sk-toggleable__content {max-height: 200px;max-width: 100%;overflow: auto;}#sk-container-id-22 input.sk-toggleable__control:checked~label.sk-toggleable__label-arrow:before {content: \"▾\";}#sk-container-id-22 div.sk-estimator input.sk-toggleable__control:checked~label.sk-toggleable__label {background-color: #d4ebff;}#sk-container-id-22 div.sk-label input.sk-toggleable__control:checked~label.sk-toggleable__label {background-color: #d4ebff;}#sk-container-id-22 input.sk-hidden--visually {border: 0;clip: rect(1px 1px 1px 1px);clip: rect(1px, 1px, 1px, 1px);height: 1px;margin: -1px;overflow: hidden;padding: 0;position: absolute;width: 1px;}#sk-container-id-22 div.sk-estimator {font-family: monospace;background-color: #f0f8ff;border: 1px dotted black;border-radius: 0.25em;box-sizing: border-box;margin-bottom: 0.5em;}#sk-container-id-22 div.sk-estimator:hover {background-color: #d4ebff;}#sk-container-id-22 div.sk-parallel-item::after {content: \"\";width: 100%;border-bottom: 1px solid gray;flex-grow: 1;}#sk-container-id-22 div.sk-label:hover label.sk-toggleable__label {background-color: #d4ebff;}#sk-container-id-22 div.sk-serial::before {content: \"\";position: absolute;border-left: 1px solid gray;box-sizing: border-box;top: 0;bottom: 0;left: 50%;z-index: 0;}#sk-container-id-22 div.sk-serial {display: flex;flex-direction: column;align-items: center;background-color: white;padding-right: 0.2em;padding-left: 0.2em;position: relative;}#sk-container-id-22 div.sk-item {position: relative;z-index: 1;}#sk-container-id-22 div.sk-parallel {display: flex;align-items: stretch;justify-content: center;background-color: white;position: relative;}#sk-container-id-22 div.sk-item::before, #sk-container-id-22 div.sk-parallel-item::before {content: \"\";position: absolute;border-left: 1px solid gray;box-sizing: border-box;top: 0;bottom: 0;left: 50%;z-index: -1;}#sk-container-id-22 div.sk-parallel-item {display: flex;flex-direction: column;z-index: 1;position: relative;background-color: white;}#sk-container-id-22 div.sk-parallel-item:first-child::after {align-self: flex-end;width: 50%;}#sk-container-id-22 div.sk-parallel-item:last-child::after {align-self: flex-start;width: 50%;}#sk-container-id-22 div.sk-parallel-item:only-child::after {width: 0;}#sk-container-id-22 div.sk-dashed-wrapped {border: 1px dashed gray;margin: 0 0.4em 0.5em 0.4em;box-sizing: border-box;padding-bottom: 0.4em;background-color: white;}#sk-container-id-22 div.sk-label label {font-family: monospace;font-weight: bold;display: inline-block;line-height: 1.2em;}#sk-container-id-22 div.sk-label-container {text-align: center;}#sk-container-id-22 div.sk-container {/* jupyter's `normalize.less` sets `[hidden] { display: none; }` but bootstrap.min.css set `[hidden] { display: none !important; }` so we also need the `!important` here to be able to override the default hidden behavior on the sphinx rendered scikit-learn.org. See: https://github.com/scikit-learn/scikit-learn/issues/21755 */display: inline-block !important;position: relative;}#sk-container-id-22 div.sk-text-repr-fallback {display: none;}</style><div id=\"sk-container-id-22\" class=\"sk-top-container\"><div class=\"sk-text-repr-fallback\"><pre>LinearRegression()</pre><b>In a Jupyter environment, please rerun this cell to show the HTML representation or trust the notebook. <br />On GitHub, the HTML representation is unable to render, please try loading this page with nbviewer.org.</b></div><div class=\"sk-container\" hidden><div class=\"sk-item\"><div class=\"sk-estimator sk-toggleable\"><input class=\"sk-toggleable__control sk-hidden--visually\" id=\"sk-estimator-id-22\" type=\"checkbox\" checked><label for=\"sk-estimator-id-22\" class=\"sk-toggleable__label sk-toggleable__label-arrow\">LinearRegression</label><div class=\"sk-toggleable__content\"><pre>LinearRegression()</pre></div></div></div></div></div>"
      ],
      "text/plain": [
       "LinearRegression()"
      ]
     },
     "execution_count": 223,
     "metadata": {},
     "output_type": "execute_result"
    }
   ],
   "source": [
    "model.fit(X_train, y_train)"
   ]
  },
  {
   "cell_type": "markdown",
   "id": "e1c0f1d0-5bec-4a3a-9da1-a80a18378fc0",
   "metadata": {},
   "source": [
    "Predictions, on test and training data"
   ]
  },
  {
   "cell_type": "code",
   "execution_count": 224,
   "id": "1832556c-c7ac-4a02-a911-d0f2c0833aca",
   "metadata": {},
   "outputs": [],
   "source": [
    "Y_predict_train = model.predict(X_train)\n",
    "Y_predict_test = model.predict(X_test)"
   ]
  },
  {
   "cell_type": "markdown",
   "id": "49c5eedc-addf-4ff2-99d2-bc95bc1b635c",
   "metadata": {},
   "source": [
    "Calculation of the \"mean absolute percentage error\""
   ]
  },
  {
   "cell_type": "code",
   "execution_count": 225,
   "id": "a82f7dbf-dd5e-4e97-b909-0c5ee1a82228",
   "metadata": {},
   "outputs": [],
   "source": [
    "task_mape = mape(y_test, Y_predict_test)"
   ]
  },
  {
   "cell_type": "markdown",
   "id": "177bd0fe-4353-4de5-b48b-cda753e365cc",
   "metadata": {},
   "source": [
    "Extraction of the coefficients and intercept"
   ]
  },
  {
   "cell_type": "code",
   "execution_count": 226,
   "id": "43c9a768-38ee-4891-adb5-ab2b658679a1",
   "metadata": {},
   "outputs": [],
   "source": [
    "a_coef = model.coef_\n",
    "b_coef = model.intercept_"
   ]
  },
  {
   "cell_type": "markdown",
   "id": "c116ed4c-ef59-4ea9-b046-f735f6f201d2",
   "metadata": {},
   "source": [
    "Stage 2/5"
   ]
  },
  {
   "cell_type": "markdown",
   "id": "c58f00d3-8823-4b98-9238-c81b3b5c74c0",
   "metadata": {},
   "source": [
    "Transformation of the predictor (in powers: 2, 3, 4)"
   ]
  },
  {
   "cell_type": "code",
   "execution_count": 227,
   "id": "caa0506f-2cc1-49d5-91cc-0367d253fdff",
   "metadata": {},
   "outputs": [],
   "source": [
    "X_p2, X_p3, X_p4 = X ** 2, X ** 3, X ** 4"
   ]
  },
  {
   "cell_type": "markdown",
   "id": "6979b50a-337b-4170-8c62-030e248f42e5",
   "metadata": {},
   "source": [
    "Splitting the data to test and train samples"
   ]
  },
  {
   "cell_type": "code",
   "execution_count": 228,
   "id": "7641e493-48ea-4f79-99eb-93dc23c01910",
   "metadata": {},
   "outputs": [],
   "source": [
    "X_train_p2, X_test_p2, y_train_p2, y_test_p2 = train_test_split(X_p2, y, test_size=0.3, random_state=100)\n",
    "X_train_p3, X_test_p3, y_train_p3, y_test_p3 = train_test_split(X_p3, y, test_size=0.3, random_state=100)\n",
    "X_train_p4, X_test_p4, y_train_p4, y_test_p4 = train_test_split(X_p4, y, test_size=0.3, random_state=100)"
   ]
  },
  {
   "cell_type": "markdown",
   "id": "97d3bb29-ebbc-48c2-af3a-3edb2cde70f9",
   "metadata": {},
   "source": [
    "Training the model"
   ]
  },
  {
   "cell_type": "code",
   "execution_count": 229,
   "id": "f34ccf8e-e4a5-4360-8819-a20169d49178",
   "metadata": {},
   "outputs": [
    {
     "data": {
      "text/html": [
       "<style>#sk-container-id-23 {color: black;}#sk-container-id-23 pre{padding: 0;}#sk-container-id-23 div.sk-toggleable {background-color: white;}#sk-container-id-23 label.sk-toggleable__label {cursor: pointer;display: block;width: 100%;margin-bottom: 0;padding: 0.3em;box-sizing: border-box;text-align: center;}#sk-container-id-23 label.sk-toggleable__label-arrow:before {content: \"▸\";float: left;margin-right: 0.25em;color: #696969;}#sk-container-id-23 label.sk-toggleable__label-arrow:hover:before {color: black;}#sk-container-id-23 div.sk-estimator:hover label.sk-toggleable__label-arrow:before {color: black;}#sk-container-id-23 div.sk-toggleable__content {max-height: 0;max-width: 0;overflow: hidden;text-align: left;background-color: #f0f8ff;}#sk-container-id-23 div.sk-toggleable__content pre {margin: 0.2em;color: black;border-radius: 0.25em;background-color: #f0f8ff;}#sk-container-id-23 input.sk-toggleable__control:checked~div.sk-toggleable__content {max-height: 200px;max-width: 100%;overflow: auto;}#sk-container-id-23 input.sk-toggleable__control:checked~label.sk-toggleable__label-arrow:before {content: \"▾\";}#sk-container-id-23 div.sk-estimator input.sk-toggleable__control:checked~label.sk-toggleable__label {background-color: #d4ebff;}#sk-container-id-23 div.sk-label input.sk-toggleable__control:checked~label.sk-toggleable__label {background-color: #d4ebff;}#sk-container-id-23 input.sk-hidden--visually {border: 0;clip: rect(1px 1px 1px 1px);clip: rect(1px, 1px, 1px, 1px);height: 1px;margin: -1px;overflow: hidden;padding: 0;position: absolute;width: 1px;}#sk-container-id-23 div.sk-estimator {font-family: monospace;background-color: #f0f8ff;border: 1px dotted black;border-radius: 0.25em;box-sizing: border-box;margin-bottom: 0.5em;}#sk-container-id-23 div.sk-estimator:hover {background-color: #d4ebff;}#sk-container-id-23 div.sk-parallel-item::after {content: \"\";width: 100%;border-bottom: 1px solid gray;flex-grow: 1;}#sk-container-id-23 div.sk-label:hover label.sk-toggleable__label {background-color: #d4ebff;}#sk-container-id-23 div.sk-serial::before {content: \"\";position: absolute;border-left: 1px solid gray;box-sizing: border-box;top: 0;bottom: 0;left: 50%;z-index: 0;}#sk-container-id-23 div.sk-serial {display: flex;flex-direction: column;align-items: center;background-color: white;padding-right: 0.2em;padding-left: 0.2em;position: relative;}#sk-container-id-23 div.sk-item {position: relative;z-index: 1;}#sk-container-id-23 div.sk-parallel {display: flex;align-items: stretch;justify-content: center;background-color: white;position: relative;}#sk-container-id-23 div.sk-item::before, #sk-container-id-23 div.sk-parallel-item::before {content: \"\";position: absolute;border-left: 1px solid gray;box-sizing: border-box;top: 0;bottom: 0;left: 50%;z-index: -1;}#sk-container-id-23 div.sk-parallel-item {display: flex;flex-direction: column;z-index: 1;position: relative;background-color: white;}#sk-container-id-23 div.sk-parallel-item:first-child::after {align-self: flex-end;width: 50%;}#sk-container-id-23 div.sk-parallel-item:last-child::after {align-self: flex-start;width: 50%;}#sk-container-id-23 div.sk-parallel-item:only-child::after {width: 0;}#sk-container-id-23 div.sk-dashed-wrapped {border: 1px dashed gray;margin: 0 0.4em 0.5em 0.4em;box-sizing: border-box;padding-bottom: 0.4em;background-color: white;}#sk-container-id-23 div.sk-label label {font-family: monospace;font-weight: bold;display: inline-block;line-height: 1.2em;}#sk-container-id-23 div.sk-label-container {text-align: center;}#sk-container-id-23 div.sk-container {/* jupyter's `normalize.less` sets `[hidden] { display: none; }` but bootstrap.min.css set `[hidden] { display: none !important; }` so we also need the `!important` here to be able to override the default hidden behavior on the sphinx rendered scikit-learn.org. See: https://github.com/scikit-learn/scikit-learn/issues/21755 */display: inline-block !important;position: relative;}#sk-container-id-23 div.sk-text-repr-fallback {display: none;}</style><div id=\"sk-container-id-23\" class=\"sk-top-container\"><div class=\"sk-text-repr-fallback\"><pre>LinearRegression()</pre><b>In a Jupyter environment, please rerun this cell to show the HTML representation or trust the notebook. <br />On GitHub, the HTML representation is unable to render, please try loading this page with nbviewer.org.</b></div><div class=\"sk-container\" hidden><div class=\"sk-item\"><div class=\"sk-estimator sk-toggleable\"><input class=\"sk-toggleable__control sk-hidden--visually\" id=\"sk-estimator-id-23\" type=\"checkbox\" checked><label for=\"sk-estimator-id-23\" class=\"sk-toggleable__label sk-toggleable__label-arrow\">LinearRegression</label><div class=\"sk-toggleable__content\"><pre>LinearRegression()</pre></div></div></div></div></div>"
      ],
      "text/plain": [
       "LinearRegression()"
      ]
     },
     "execution_count": 229,
     "metadata": {},
     "output_type": "execute_result"
    }
   ],
   "source": [
    "model_p2, model_p3, model_p4 = LinearRegression(), LinearRegression(), LinearRegression()\n",
    "model_p2.fit(X_train_p2, y_train_p2)\n",
    "model_p3.fit(X_train_p3, y_train_p3)\n",
    "model_p4.fit(X_train_p4, y_train_p4)"
   ]
  },
  {
   "cell_type": "markdown",
   "id": "748046ba-1ba5-436b-aedc-92bf85b711be",
   "metadata": {},
   "source": [
    "Predictions:"
   ]
  },
  {
   "cell_type": "code",
   "execution_count": 230,
   "id": "e3d2a59e-d612-43fe-b4f3-7f909efe92a5",
   "metadata": {},
   "outputs": [],
   "source": [
    "Y_predict_test_p2 = model_p2.predict(X_test_p2)\n",
    "Y_predict_test_p3 = model_p3.predict(X_test_p3)\n",
    "Y_predict_test_p4 = model_p4.predict(X_test_p4)"
   ]
  },
  {
   "cell_type": "markdown",
   "id": "baa092fa-3387-4493-8776-3ae78cc75d95",
   "metadata": {},
   "source": [
    "Calculation of the \"mean absolute percentage error\""
   ]
  },
  {
   "cell_type": "code",
   "execution_count": 231,
   "id": "e8576cc0-d735-48cc-88e8-c25c035f314e",
   "metadata": {},
   "outputs": [],
   "source": [
    "mape_p2 = mape(y_test_p2, Y_predict_test_p2)\n",
    "mape_p3 = mape(y_test_p3, Y_predict_test_p3)\n",
    "mape_p4 = mape(y_test_p4, Y_predict_test_p4)"
   ]
  },
  {
   "cell_type": "markdown",
   "id": "6f9439ef-4a8f-4cba-92ff-b5c5f54447af",
   "metadata": {},
   "source": [
    "Visualizing"
   ]
  },
  {
   "cell_type": "code",
   "execution_count": 232,
   "id": "b41d2ed2-0110-4225-9b46-9020ab049c3d",
   "metadata": {},
   "outputs": [
    {
     "data": {
      "image/png": "[encoded data removed]",
      "text/plain": [
       "<Figure size 800x800 with 1 Axes>"
      ]
     },
     "metadata": {},
     "output_type": "display_data"
    }
   ],
   "source": [
    "fig, axes = plt.subplots(figsize=(8, 8))\n",
    "axes.scatter(data['rating'], data['salary'], s=10, c='g', label='Core Data')\n",
    "axes.scatter(X_test, Y_predict_test, c='b', label='Basic linear prediction')\n",
    "axes.plot(X_test, [a_coef * X_test.iloc[i] + b_coef for i in range(len(X_test))],\n",
    "          c='m',\n",
    "          label='Basic linear prediction: function a*x+b')\n",
    "axes.set_ylabel(\"Player's salary\", fontsize=12)\n",
    "axes.set_xlabel(\"Player's rating\", fontsize=12)\n",
    "axes.grid()\n",
    "axes.scatter(X_test, Y_predict_test_p2, c='k', label='Quadratic  predictor')\n",
    "axes.scatter(X_test, Y_predict_test_p3, c='y', label='Cubic  predictor')\n",
    "axes.scatter(X_test, Y_predict_test_p4, c='c', label='Quartic  predictor')\n",
    "axes.legend()\n",
    "plt.show()"
   ]
  },
  {
   "cell_type": "markdown",
   "id": "f898e34b-b0ba-4a28-baa9-fcc413a44a0d",
   "metadata": {},
   "source": [
    "Stage 3/5"
   ]
  },
  {
   "cell_type": "markdown",
   "id": "c9533ecb-1941-427c-b577-e593912e3893",
   "metadata": {},
   "source": [
    "Assigning the linear regression model"
   ]
  },
  {
   "cell_type": "code",
   "execution_count": 233,
   "id": "4f890b69-df7d-4775-bbd3-9b3b4ad82eb0",
   "metadata": {},
   "outputs": [],
   "source": [
    "multy_model = LinearRegression()"
   ]
  },
  {
   "cell_type": "markdown",
   "id": "a274449a-18d7-49f8-802c-006b3c4682ec",
   "metadata": {},
   "source": [
    "Extraction the data from DataFrame"
   ]
  },
  {
   "cell_type": "code",
   "execution_count": 234,
   "id": "8ccacc11-fe03-46db-a2c3-56aff01de7e2",
   "metadata": {},
   "outputs": [],
   "source": [
    "X_m, y_m = data.drop(['salary'], axis=1), data['salary']"
   ]
  },
  {
   "cell_type": "markdown",
   "id": "38511c47-3527-4288-98a6-451509f37b56",
   "metadata": {},
   "source": [
    "Splitting the data to test and train samples"
   ]
  },
  {
   "cell_type": "code",
   "execution_count": 235,
   "id": "3e7bf2e1-0bb6-4197-9776-5a5d08133a0a",
   "metadata": {},
   "outputs": [],
   "source": [
    "X_m_train, X_m_test, y_m_train, y_m_test = train_test_split(X_m, y_m, test_size=0.3, random_state=100)"
   ]
  },
  {
   "cell_type": "markdown",
   "id": "e0ee61a6-d97d-4846-96ca-20176d7ae561",
   "metadata": {},
   "source": [
    "Training the model"
   ]
  },
  {
   "cell_type": "code",
   "execution_count": 236,
   "id": "206135f9-ea55-4f1f-bff3-4a348422e850",
   "metadata": {},
   "outputs": [
    {
     "data": {
      "text/html": [
       "<style>#sk-container-id-24 {color: black;}#sk-container-id-24 pre{padding: 0;}#sk-container-id-24 div.sk-toggleable {background-color: white;}#sk-container-id-24 label.sk-toggleable__label {cursor: pointer;display: block;width: 100%;margin-bottom: 0;padding: 0.3em;box-sizing: border-box;text-align: center;}#sk-container-id-24 label.sk-toggleable__label-arrow:before {content: \"▸\";float: left;margin-right: 0.25em;color: #696969;}#sk-container-id-24 label.sk-toggleable__label-arrow:hover:before {color: black;}#sk-container-id-24 div.sk-estimator:hover label.sk-toggleable__label-arrow:before {color: black;}#sk-container-id-24 div.sk-toggleable__content {max-height: 0;max-width: 0;overflow: hidden;text-align: left;background-color: #f0f8ff;}#sk-container-id-24 div.sk-toggleable__content pre {margin: 0.2em;color: black;border-radius: 0.25em;background-color: #f0f8ff;}#sk-container-id-24 input.sk-toggleable__control:checked~div.sk-toggleable__content {max-height: 200px;max-width: 100%;overflow: auto;}#sk-container-id-24 input.sk-toggleable__control:checked~label.sk-toggleable__label-arrow:before {content: \"▾\";}#sk-container-id-24 div.sk-estimator input.sk-toggleable__control:checked~label.sk-toggleable__label {background-color: #d4ebff;}#sk-container-id-24 div.sk-label input.sk-toggleable__control:checked~label.sk-toggleable__label {background-color: #d4ebff;}#sk-container-id-24 input.sk-hidden--visually {border: 0;clip: rect(1px 1px 1px 1px);clip: rect(1px, 1px, 1px, 1px);height: 1px;margin: -1px;overflow: hidden;padding: 0;position: absolute;width: 1px;}#sk-container-id-24 div.sk-estimator {font-family: monospace;background-color: #f0f8ff;border: 1px dotted black;border-radius: 0.25em;box-sizing: border-box;margin-bottom: 0.5em;}#sk-container-id-24 div.sk-estimator:hover {background-color: #d4ebff;}#sk-container-id-24 div.sk-parallel-item::after {content: \"\";width: 100%;border-bottom: 1px solid gray;flex-grow: 1;}#sk-container-id-24 div.sk-label:hover label.sk-toggleable__label {background-color: #d4ebff;}#sk-container-id-24 div.sk-serial::before {content: \"\";position: absolute;border-left: 1px solid gray;box-sizing: border-box;top: 0;bottom: 0;left: 50%;z-index: 0;}#sk-container-id-24 div.sk-serial {display: flex;flex-direction: column;align-items: center;background-color: white;padding-right: 0.2em;padding-left: 0.2em;position: relative;}#sk-container-id-24 div.sk-item {position: relative;z-index: 1;}#sk-container-id-24 div.sk-parallel {display: flex;align-items: stretch;justify-content: center;background-color: white;position: relative;}#sk-container-id-24 div.sk-item::before, #sk-container-id-24 div.sk-parallel-item::before {content: \"\";position: absolute;border-left: 1px solid gray;box-sizing: border-box;top: 0;bottom: 0;left: 50%;z-index: -1;}#sk-container-id-24 div.sk-parallel-item {display: flex;flex-direction: column;z-index: 1;position: relative;background-color: white;}#sk-container-id-24 div.sk-parallel-item:first-child::after {align-self: flex-end;width: 50%;}#sk-container-id-24 div.sk-parallel-item:last-child::after {align-self: flex-start;width: 50%;}#sk-container-id-24 div.sk-parallel-item:only-child::after {width: 0;}#sk-container-id-24 div.sk-dashed-wrapped {border: 1px dashed gray;margin: 0 0.4em 0.5em 0.4em;box-sizing: border-box;padding-bottom: 0.4em;background-color: white;}#sk-container-id-24 div.sk-label label {font-family: monospace;font-weight: bold;display: inline-block;line-height: 1.2em;}#sk-container-id-24 div.sk-label-container {text-align: center;}#sk-container-id-24 div.sk-container {/* jupyter's `normalize.less` sets `[hidden] { display: none; }` but bootstrap.min.css set `[hidden] { display: none !important; }` so we also need the `!important` here to be able to override the default hidden behavior on the sphinx rendered scikit-learn.org. See: https://github.com/scikit-learn/scikit-learn/issues/21755 */display: inline-block !important;position: relative;}#sk-container-id-24 div.sk-text-repr-fallback {display: none;}</style><div id=\"sk-container-id-24\" class=\"sk-top-container\"><div class=\"sk-text-repr-fallback\"><pre>LinearRegression()</pre><b>In a Jupyter environment, please rerun this cell to show the HTML representation or trust the notebook. <br />On GitHub, the HTML representation is unable to render, please try loading this page with nbviewer.org.</b></div><div class=\"sk-container\" hidden><div class=\"sk-item\"><div class=\"sk-estimator sk-toggleable\"><input class=\"sk-toggleable__control sk-hidden--visually\" id=\"sk-estimator-id-24\" type=\"checkbox\" checked><label for=\"sk-estimator-id-24\" class=\"sk-toggleable__label sk-toggleable__label-arrow\">LinearRegression</label><div class=\"sk-toggleable__content\"><pre>LinearRegression()</pre></div></div></div></div></div>"
      ],
      "text/plain": [
       "LinearRegression()"
      ]
     },
     "execution_count": 236,
     "metadata": {},
     "output_type": "execute_result"
    }
   ],
   "source": [
    "multy_model.fit(X_m_train, y_m_train)"
   ]
  },
  {
   "cell_type": "markdown",
   "id": "8d247509-3f33-4abd-ad2c-2b0818287557",
   "metadata": {},
   "source": [
    "Extraction of the coefficients and intercept"
   ]
  },
  {
   "cell_type": "code",
   "execution_count": 237,
   "id": "61d00084-1c66-489c-a9a0-51b834e5d638",
   "metadata": {},
   "outputs": [],
   "source": [
    "w_coef = multy_model.coef_\n",
    "w0_coef = multy_model.intercept_"
   ]
  },
  {
   "cell_type": "markdown",
   "id": "113ac9ed-ddc7-4e98-a1ec-1a5d9a44d629",
   "metadata": {},
   "source": [
    "Stage 4/5"
   ]
  },
  {
   "cell_type": "code",
   "execution_count": 238,
   "id": "95c53448-5e76-459d-9b02-88522e1d252a",
   "metadata": {},
   "outputs": [],
   "source": [
    "def corr_model(predictor, target, max_corr=0.2):\n",
    "\n",
    "    X_train, X_test, y_train, y_test = (\n",
    "        train_test_split(predictor, target, test_size=0.3, random_state=100))\n",
    "    corr = predictor.corr()\n",
    "    high_corr = (corr\n",
    "                 .where((corr > max_corr) & (corr != 1.0))\n",
    "                 .dropna(how='all')\n",
    "                 .dropna(axis=1, how='all')\n",
    "                 .columns.tolist())\n",
    "    model = LinearRegression()\n",
    "    mape_list = []\n",
    "\n",
    "    for i in range(len(high_corr)):\n",
    "\n",
    "        Train_x = X_train.drop([high_corr[i]], axis=1)\n",
    "        Test_x = X_test.drop([high_corr[i]], axis=1)\n",
    "        model.fit(Train_x, y_train)\n",
    "        Y_predict_test = model.predict(Test_x)\n",
    "        m = mape(y_test, Y_predict_test)\n",
    "        mape_list.append(m)\n",
    "        print(Train_x.head(), m)\n",
    "        for j in range(i + 1, len(high_corr)):\n",
    "            Train_x = X_train.drop([high_corr[i], high_corr[j]], axis=1)\n",
    "            Test_x = X_test.drop([high_corr[i], high_corr[j]], axis=1)\n",
    "            model.fit(Train_x, y_train)\n",
    "            Y_predict_test = model.predict(Test_x)\n",
    "            m = mape(y_test, Y_predict_test)\n",
    "            mape_list.append(m)\n",
    "            print(Train_x.head(), m)\n",
    "    return min(mape_list).round(5)"
   ]
  },
  {
   "cell_type": "code",
   "execution_count": 239,
   "id": "1279df31-3f27-46c8-a018-917191dcf3a4",
   "metadata": {},
   "outputs": [
    {
     "name": "stdout",
     "output_type": "stream",
     "text": [
      "     draft_round  age  experience        bmi\n",
      "151            1   24           5  23.729852\n",
      "260            1   28           6  24.479592\n",
      "140            1   22           2  22.504353\n",
      "217            1   34          12  22.367808\n",
      "117            1   21           2  27.688755 2.707355066874802\n",
      "     draft_round  experience        bmi\n",
      "151            1           5  23.729852\n",
      "260            1           6  24.479592\n",
      "140            1           2  22.504353\n",
      "217            1          12  22.367808\n",
      "117            1           2  27.688755 2.676629956561689\n",
      "     draft_round  age        bmi\n",
      "151            1   24  23.729852\n",
      "260            1   28  24.479592\n",
      "140            1   22  22.504353\n",
      "217            1   34  22.367808\n",
      "117            1   21  27.688755 2.9659652418844282\n",
      "     rating  draft_round  experience        bmi\n",
      "151      77            1           5  23.729852\n",
      "260      74            1           6  24.479592\n",
      "140      77            1           2  22.504353\n",
      "217      75            1          12  22.367808\n",
      "117      78            1           2  27.688755 1.39746941180655\n",
      "     rating  draft_round        bmi\n",
      "151      77            1  23.729852\n",
      "260      74            1  24.479592\n",
      "140      77            1  22.504353\n",
      "217      75            1  22.367808\n",
      "117      78            1  27.688755 1.2278879606899644\n",
      "     rating  draft_round  age        bmi\n",
      "151      77            1   24  23.729852\n",
      "260      74            1   28  24.479592\n",
      "140      77            1   22  22.504353\n",
      "217      75            1   34  22.367808\n",
      "117      78            1   21  27.688755 1.469643265867241\n",
      "     draft_round  age  experience        bmi\n",
      "151            1   24           5  23.729852\n",
      "260            1   28           6  24.479592\n",
      "140            1   22           2  22.504353\n",
      "217            1   34          12  22.367808\n",
      "117            1   21           2  27.688755 2.707355066874802\n",
      "     draft_round  experience        bmi\n",
      "151            1           5  23.729852\n",
      "260            1           6  24.479592\n",
      "140            1           2  22.504353\n",
      "217            1          12  22.367808\n",
      "117            1           2  27.688755 2.676629956561689\n",
      "     draft_round  age        bmi\n",
      "151            1   24  23.729852\n",
      "260            1   28  24.479592\n",
      "140            1   22  22.504353\n",
      "217            1   34  22.367808\n",
      "117            1   21  27.688755 2.9659652418844282\n",
      "     rating  draft_round  experience        bmi\n",
      "151      77            1           5  23.729852\n",
      "260      74            1           6  24.479592\n",
      "140      77            1           2  22.504353\n",
      "217      75            1          12  22.367808\n",
      "117      78            1           2  27.688755 1.39746941180655\n",
      "     rating  draft_round        bmi\n",
      "151      77            1  23.729852\n",
      "260      74            1  24.479592\n",
      "140      77            1  22.504353\n",
      "217      75            1  22.367808\n",
      "117      78            1  27.688755 1.2278879606899644\n",
      "     rating  draft_round  age        bmi\n",
      "151      77            1   24  23.729852\n",
      "260      74            1   28  24.479592\n",
      "140      77            1   22  22.504353\n",
      "217      75            1   34  22.367808\n",
      "117      78            1   21  27.688755 1.469643265867241\n",
      "1.22789\n"
     ]
    }
   ],
   "source": [
    "corr_model(X_m, y_m)\n",
    "print(corr_model(X_m, y_m))"
   ]
  },
  {
   "cell_type": "markdown",
   "id": "c8c8ac7b-6aee-4df3-8982-731c831cb530",
   "metadata": {},
   "source": [
    "Stage 5/5"
   ]
  },
  {
   "cell_type": "code",
   "execution_count": 240,
   "id": "fb46b47c-1ad4-4328-9a84-15ccca670000",
   "metadata": {},
   "outputs": [
    {
     "name": "stdout",
     "output_type": "stream",
     "text": [
      "0.94701\n"
     ]
    }
   ],
   "source": [
    "X_train, X_test, y_train, y_test = (\n",
    "    train_test_split(X_m, y_m, test_size=0.3, random_state=100))\n",
    "\n",
    "Train_x = X_train.drop(['age', 'experience'], axis=1)\n",
    "Test_x = X_test.drop(['age', 'experience'], axis=1)\n",
    "model.fit(Train_x, y_train)\n",
    "Y_predict_test_0 = model.predict(Test_x)\n",
    "Y_predict_test_m = model.predict(Test_x)\n",
    "Y_predict_test_0[Y_predict_test_0 < 0] = 0\n",
    "Y_predict_test_m[Y_predict_test_m < 0] = np.mean(Y_predict_test_m)\n",
    "m_0 = mape(y_test, Y_predict_test_0)\n",
    "m_m = mape(y_test, Y_predict_test_m)\n",
    "print(min(m_0, m_m).round(5))"
   ]
  },
  {
   "cell_type": "code",
   "execution_count": null,
   "id": "4e6d7787-0ba9-410b-875e-9baccaa9fede",
   "metadata": {},
   "outputs": [],
   "source": []
  }
 ],
 "metadata": {
  "kernelspec": {
   "display_name": "Python 3 (ipykernel)",
   "language": "python",
   "name": "python3"
  },
  "language_info": {
   "codemirror_mode": {
    "name": "ipython",
    "version": 3
   },
   "file_extension": ".py",
   "mimetype": "text/x-python",
   "name": "python",
   "nbconvert_exporter": "python",
   "pygments_lexer": "ipython3",
   "version": "3.9.13"
  }
 },
 "nbformat": 4,
 "nbformat_minor": 5
}
